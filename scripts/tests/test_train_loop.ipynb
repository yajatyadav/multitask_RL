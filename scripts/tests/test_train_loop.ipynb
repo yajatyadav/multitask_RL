{
 "cells": [
  {
   "cell_type": "code",
   "execution_count": 1,
   "id": "c5bfe20c",
   "metadata": {},
   "outputs": [
    {
     "name": "stderr",
     "output_type": "stream",
     "text": [
      "2025-10-09 18:48:51.336451: E external/local_xla/xla/stream_executor/cuda/cuda_fft.cc:467] Unable to register cuFFT factory: Attempting to register factory for plugin cuFFT when one has already been registered\n",
      "WARNING: All log messages before absl::InitializeLog() is called are written to STDERR\n",
      "E0000 00:00:1760060931.351592 2294317 cuda_dnn.cc:8579] Unable to register cuDNN factory: Attempting to register factory for plugin cuDNN when one has already been registered\n",
      "E0000 00:00:1760060931.356280 2294317 cuda_blas.cc:1407] Unable to register cuBLAS factory: Attempting to register factory for plugin cuBLAS when one has already been registered\n",
      "W0000 00:00:1760060931.369157 2294317 computation_placer.cc:177] computation placer already registered. Please check linkage and avoid linking the same target more than once.\n",
      "W0000 00:00:1760060931.369172 2294317 computation_placer.cc:177] computation placer already registered. Please check linkage and avoid linking the same target more than once.\n",
      "W0000 00:00:1760060931.369173 2294317 computation_placer.cc:177] computation placer already registered. Please check linkage and avoid linking the same target more than once.\n",
      "W0000 00:00:1760060931.369174 2294317 computation_placer.cc:177] computation placer already registered. Please check linkage and avoid linking the same target more than once.\n",
      "WARNING:2025-10-09 18:48:53,075:jax._src.xla_bridge:967: An NVIDIA GPU may be present on this machine, but a CUDA-enabled jaxlib is not installed. Falling back to cpu.\n"
     ]
    },
    {
     "name": "stdout",
     "output_type": "stream",
     "text": [
      " Performing action-proprio normalization! \n",
      "THIS DATASET HAS TOTAL NUM_TRAJECTORIES 4500  AND NUM_TRANSITIONS 669043\n",
      " Performing action-proprio normalization! \n",
      "THIS DATASET HAS TOTAL NUM_TRAJECTORIES 500  AND NUM_TRANSITIONS 74507\n",
      " Performing action-proprio normalization! \n",
      "THIS DATASET HAS TOTAL NUM_TRAJECTORIES 500  AND NUM_TRANSITIONS 62250\n",
      " Performing action-proprio normalization! \n",
      "THIS DATASET HAS TOTAL NUM_TRAJECTORIES 500  AND NUM_TRANSITIONS 63728\n",
      "\n",
      "######################################################################################\n",
      "# Loading the following 4 datasets (incl. sampling weight):                         #\n",
      "# libero_90: ===============================================================0.806452 #\n",
      "# libero_object: ===========================================================0.064516 #\n",
      "# libero_spatial: ==========================================================0.064516 #\n",
      "# libero_goal: =============================================================0.064516 #\n",
      "######################################################################################\n",
      "\n",
      " Performing action-proprio normalization! \n"
     ]
    },
    {
     "name": "stderr",
     "output_type": "stream",
     "text": [
      "WARNING:absl:No resize_size was provided for image_secondary. This will result in 1x1 padding images, which may cause errors if you mix padding and non-padding images.\n",
      "WARNING:absl:No resize_size was provided for image_primary. This will result in 1x1 padding images, which may cause errors if you mix padding and non-padding images.\n",
      "WARNING:absl:No resize_size was provided for image_wrist. This will result in 1x1 padding images, which may cause errors if you mix padding and non-padding images.\n",
      "WARNING:absl:No resize_size was provided for image_secondary. This will result in 1x1 padding images, which may cause errors if you mix padding and non-padding images.\n",
      "WARNING:absl:No resize_size was provided for image_primary. This will result in 1x1 padding images, which may cause errors if you mix padding and non-padding images.\n",
      "WARNING:absl:No resize_size was provided for image_wrist. This will result in 1x1 padding images, which may cause errors if you mix padding and non-padding images.\n",
      "WARNING:absl:No resize_size was provided for image_secondary. This will result in 1x1 padding images, which may cause errors if you mix padding and non-padding images.\n",
      "WARNING:absl:No resize_size was provided for image_primary. This will result in 1x1 padding images, which may cause errors if you mix padding and non-padding images.\n",
      "WARNING:absl:No resize_size was provided for image_wrist. This will result in 1x1 padding images, which may cause errors if you mix padding and non-padding images.\n",
      "WARNING:absl:No resize_size was provided for image_secondary. This will result in 1x1 padding images, which may cause errors if you mix padding and non-padding images.\n",
      "WARNING:absl:No resize_size was provided for image_primary. This will result in 1x1 padding images, which may cause errors if you mix padding and non-padding images.\n",
      "WARNING:absl:No resize_size was provided for image_wrist. This will result in 1x1 padding images, which may cause errors if you mix padding and non-padding images.\n"
     ]
    },
    {
     "name": "stdout",
     "output_type": "stream",
     "text": [
      " Performing action-proprio normalization! \n"
     ]
    },
    {
     "name": "stderr",
     "output_type": "stream",
     "text": [
      "WARNING:absl:No resize_size was provided for image_secondary. This will result in 1x1 padding images, which may cause errors if you mix padding and non-padding images.\n",
      "WARNING:absl:No resize_size was provided for image_primary. This will result in 1x1 padding images, which may cause errors if you mix padding and non-padding images.\n",
      "WARNING:absl:No resize_size was provided for image_wrist. This will result in 1x1 padding images, which may cause errors if you mix padding and non-padding images.\n",
      "WARNING:absl:No resize_size was provided for image_secondary. This will result in 1x1 padding images, which may cause errors if you mix padding and non-padding images.\n",
      "WARNING:absl:No resize_size was provided for image_primary. This will result in 1x1 padding images, which may cause errors if you mix padding and non-padding images.\n",
      "WARNING:absl:No resize_size was provided for image_wrist. This will result in 1x1 padding images, which may cause errors if you mix padding and non-padding images.\n"
     ]
    },
    {
     "name": "stdout",
     "output_type": "stream",
     "text": [
      " Performing action-proprio normalization! \n"
     ]
    },
    {
     "name": "stderr",
     "output_type": "stream",
     "text": [
      "WARNING:absl:No resize_size was provided for image_secondary. This will result in 1x1 padding images, which may cause errors if you mix padding and non-padding images.\n",
      "WARNING:absl:No resize_size was provided for image_primary. This will result in 1x1 padding images, which may cause errors if you mix padding and non-padding images.\n",
      "WARNING:absl:No resize_size was provided for image_wrist. This will result in 1x1 padding images, which may cause errors if you mix padding and non-padding images.\n",
      "WARNING:absl:No resize_size was provided for image_secondary. This will result in 1x1 padding images, which may cause errors if you mix padding and non-padding images.\n",
      "WARNING:absl:No resize_size was provided for image_primary. This will result in 1x1 padding images, which may cause errors if you mix padding and non-padding images.\n",
      "WARNING:absl:No resize_size was provided for image_wrist. This will result in 1x1 padding images, which may cause errors if you mix padding and non-padding images.\n"
     ]
    },
    {
     "name": "stdout",
     "output_type": "stream",
     "text": [
      " Performing action-proprio normalization! \n"
     ]
    },
    {
     "name": "stderr",
     "output_type": "stream",
     "text": [
      "/home/yajatyadav/multitask_reinforcement_learning/multitask_RL/.venv/lib/python3.11/site-packages/tensorflow_hub/__init__.py:61: UserWarning: pkg_resources is deprecated as an API. See https://setuptools.pypa.io/en/latest/pkg_resources.html. The pkg_resources package is slated for removal as early as 2025-11-30. Refrain from using this package or pin to Setuptools<81.\n",
      "  from pkg_resources import parse_version\n"
     ]
    },
    {
     "name": "stdout",
     "output_type": "stream",
     "text": [
      " Performing action-proprio normalization! \n",
      "THIS DATASET HAS TOTAL NUM_TRAJECTORIES 4500  AND NUM_TRANSITIONS 669043\n",
      " Performing action-proprio normalization! \n",
      "THIS DATASET HAS TOTAL NUM_TRAJECTORIES 500  AND NUM_TRANSITIONS 74507\n",
      " Performing action-proprio normalization! \n",
      "THIS DATASET HAS TOTAL NUM_TRAJECTORIES 500  AND NUM_TRANSITIONS 62250\n",
      " Performing action-proprio normalization! \n",
      "THIS DATASET HAS TOTAL NUM_TRAJECTORIES 500  AND NUM_TRANSITIONS 63728\n",
      "\n",
      "######################################################################################\n",
      "# Loading the following 4 datasets (incl. sampling weight):                         #\n",
      "# libero_90: ===============================================================0.806452 #\n",
      "# libero_object: ===========================================================0.064516 #\n",
      "# libero_spatial: ==========================================================0.064516 #\n",
      "# libero_goal: =============================================================0.064516 #\n",
      "######################################################################################\n",
      "\n",
      " Performing action-proprio normalization! \n"
     ]
    },
    {
     "name": "stderr",
     "output_type": "stream",
     "text": [
      "WARNING:absl:No resize_size was provided for image_secondary. This will result in 1x1 padding images, which may cause errors if you mix padding and non-padding images.\n",
      "WARNING:absl:No resize_size was provided for image_primary. This will result in 1x1 padding images, which may cause errors if you mix padding and non-padding images.\n",
      "WARNING:absl:No resize_size was provided for image_wrist. This will result in 1x1 padding images, which may cause errors if you mix padding and non-padding images.\n",
      "WARNING:absl:No resize_size was provided for image_secondary. This will result in 1x1 padding images, which may cause errors if you mix padding and non-padding images.\n",
      "WARNING:absl:No resize_size was provided for image_primary. This will result in 1x1 padding images, which may cause errors if you mix padding and non-padding images.\n",
      "WARNING:absl:No resize_size was provided for image_wrist. This will result in 1x1 padding images, which may cause errors if you mix padding and non-padding images.\n",
      "WARNING:absl:No resize_size was provided for image_secondary. This will result in 1x1 padding images, which may cause errors if you mix padding and non-padding images.\n",
      "WARNING:absl:No resize_size was provided for image_primary. This will result in 1x1 padding images, which may cause errors if you mix padding and non-padding images.\n",
      "WARNING:absl:No resize_size was provided for image_wrist. This will result in 1x1 padding images, which may cause errors if you mix padding and non-padding images.\n",
      "WARNING:absl:No resize_size was provided for image_secondary. This will result in 1x1 padding images, which may cause errors if you mix padding and non-padding images.\n",
      "WARNING:absl:No resize_size was provided for image_primary. This will result in 1x1 padding images, which may cause errors if you mix padding and non-padding images.\n",
      "WARNING:absl:No resize_size was provided for image_wrist. This will result in 1x1 padding images, which may cause errors if you mix padding and non-padding images.\n"
     ]
    },
    {
     "name": "stdout",
     "output_type": "stream",
     "text": [
      " Performing action-proprio normalization! \n"
     ]
    },
    {
     "name": "stderr",
     "output_type": "stream",
     "text": [
      "WARNING:absl:No resize_size was provided for image_secondary. This will result in 1x1 padding images, which may cause errors if you mix padding and non-padding images.\n",
      "WARNING:absl:No resize_size was provided for image_primary. This will result in 1x1 padding images, which may cause errors if you mix padding and non-padding images.\n",
      "WARNING:absl:No resize_size was provided for image_wrist. This will result in 1x1 padding images, which may cause errors if you mix padding and non-padding images.\n",
      "WARNING:absl:No resize_size was provided for image_secondary. This will result in 1x1 padding images, which may cause errors if you mix padding and non-padding images.\n",
      "WARNING:absl:No resize_size was provided for image_primary. This will result in 1x1 padding images, which may cause errors if you mix padding and non-padding images.\n",
      "WARNING:absl:No resize_size was provided for image_wrist. This will result in 1x1 padding images, which may cause errors if you mix padding and non-padding images.\n"
     ]
    },
    {
     "name": "stdout",
     "output_type": "stream",
     "text": [
      " Performing action-proprio normalization! \n"
     ]
    },
    {
     "name": "stderr",
     "output_type": "stream",
     "text": [
      "WARNING:absl:No resize_size was provided for image_secondary. This will result in 1x1 padding images, which may cause errors if you mix padding and non-padding images.\n",
      "WARNING:absl:No resize_size was provided for image_primary. This will result in 1x1 padding images, which may cause errors if you mix padding and non-padding images.\n",
      "WARNING:absl:No resize_size was provided for image_wrist. This will result in 1x1 padding images, which may cause errors if you mix padding and non-padding images.\n",
      "WARNING:absl:No resize_size was provided for image_secondary. This will result in 1x1 padding images, which may cause errors if you mix padding and non-padding images.\n",
      "WARNING:absl:No resize_size was provided for image_primary. This will result in 1x1 padding images, which may cause errors if you mix padding and non-padding images.\n",
      "WARNING:absl:No resize_size was provided for image_wrist. This will result in 1x1 padding images, which may cause errors if you mix padding and non-padding images.\n"
     ]
    },
    {
     "name": "stdout",
     "output_type": "stream",
     "text": [
      " Performing action-proprio normalization! \n"
     ]
    }
   ],
   "source": [
    "import rlds_dataloader.dataloader as rlds_data_loader\n",
    "from ml_collections import config_flags\n",
    "config_flags.DEFINE_config_file('agent', 'agents/iql.py', lock_config=False)\n",
    "\n",
    "# default is mean/std action-proprio normalization. Actions only first 6 dimensions normalized\n",
    "train_dataloader_config = {\n",
    "    \"data_root_dir\": \"/raid/users/yajatyadav/datasets/raw_libero/raw_libero_RLDS\",\n",
    "    \"dataset_mix\": { \n",
    "        \"libero_90\": 1.0, # weights are in terms of odds\n",
    "        \"libero_object\": 0.08,\n",
    "        \"libero_spatial\": 0.08,\n",
    "        \"libero_goal\": 0.08,\n",
    "    },\n",
    "    \"batch_size\": 32,\n",
    "    \"num_workers\": 16, # dataloader workers\n",
    "    \"seed\": 42,\n",
    "    \"do_image_aug\": True,\n",
    "    \"binarize_gripper\": True, # binarizes to 0 and 1 (by scanning for transitions), and then normalizes to -1 and 1\n",
    "    \"train\": True, # for picking the right split\n",
    "}\n",
    "\n",
    "val_dataloader_config = {\n",
    "    \"data_root_dir\": \"/raid/users/yajatyadav/datasets/raw_libero/raw_libero_RLDS\",\n",
    "    \"dataset_mix\": { \n",
    "        \"libero_90\": 1.0, # weights are in terms of odds\n",
    "        \"libero_object\": 0.08,\n",
    "        \"libero_spatial\": 0.08,\n",
    "        \"libero_goal\": 0.08,\n",
    "    },\n",
    "    \"batch_size\": 32,\n",
    "    \"num_workers\": 16, # dataloader workers\n",
    "    \"seed\": 42,\n",
    "    \"do_image_aug\": True,\n",
    "    \"binarize_gripper\": True, # binarizes to 0 and 1 (by scanning for transitions), and then normalizes to -1 and 1\n",
    "    \"train\": False, # for picking the right split\n",
    "}\n",
    "\n",
    "train_dataloader = rlds_data_loader.create_data_loader(train_dataloader_config)\n",
    "val_dataloader = rlds_data_loader.create_data_loader(val_dataloader_config)\n"
   ]
  },
  {
   "cell_type": "code",
   "execution_count": 2,
   "id": "bc58790e",
   "metadata": {},
   "outputs": [],
   "source": [
    "from agents.iql import IQLAgent, get_config\n",
    "import ml_collections\n",
    "config = ml_collections.ConfigDict(\n",
    "        dict(\n",
    "            agent_name='iql',  # Agent name.\n",
    "            lr=3e-4,  # Learning rate.\n",
    "            batch_size=32,  # Batch size.\n",
    "            actor_hidden_dims=(64, 64),  # Actor network hidden dimensions.\n",
    "            value_hidden_dims=(64, 64),  # Value network hidden dimensions.\n",
    "            layer_norm=True,  # Whether to use layer normalization.\n",
    "            actor_layer_norm=False,  # Whether to use layer normalization for the actor.\n",
    "            discount=0.99,  # Discount factor.\n",
    "            tau=0.005,  # Target network update rate.\n",
    "            expectile=0.9,  # IQL expectile.\n",
    "            actor_loss='awr',  # Actor loss type ('awr' or 'ddpgbc').\n",
    "            alpha=10.0,  # Temperature in AWR or BC coefficient in DDPG+BC.\n",
    "            const_std=True,  # Whether to use constant standard deviation for the actor.\n",
    "            encoder='combined_encoder_debug',  # Visual encoder name (None, 'impala_small', etc.).\n",
    "        )\n",
    "    )\n",
    "example_batch = train_dataloader.example_batch()\n",
    "# agent = IQLAgent.create(\n",
    "#     42,\n",
    "#     example_batch['observations'],\n",
    "#     example_batch['actions'],\n",
    "#     config,\n",
    "# )"
   ]
  },
  {
   "cell_type": "code",
   "execution_count": 3,
   "id": "3307246b",
   "metadata": {},
   "outputs": [
    {
     "ename": "AttributeError",
     "evalue": "\"CombinedEncoder\" object has no attribute \"film_impala_encoder\". If \"film_impala_encoder\" is defined in '.setup()', remember these fields are only accessible from inside 'init' or 'apply'.",
     "output_type": "error",
     "traceback": [
      "\u001b[31m---------------------------------------------------------------------------\u001b[39m",
      "\u001b[31mAttributeError\u001b[39m                            Traceback (most recent call last)",
      "\u001b[36mCell\u001b[39m\u001b[36m \u001b[39m\u001b[32mIn[3]\u001b[39m\u001b[32m, line 3\u001b[39m\n\u001b[32m      1\u001b[39m \u001b[38;5;28;01mfrom\u001b[39;00m\u001b[38;5;250m \u001b[39m\u001b[34;01mnetworks\u001b[39;00m\u001b[34;01m.\u001b[39;00m\u001b[34;01mencoders\u001b[39;00m\u001b[38;5;250m \u001b[39m\u001b[38;5;28;01mimport\u001b[39;00m encoder_modules\n\u001b[32m      2\u001b[39m combined_encoder = encoder_modules[\u001b[33m'\u001b[39m\u001b[33mcombined_encoder_debug\u001b[39m\u001b[33m'\u001b[39m]()\n\u001b[32m----> \u001b[39m\u001b[32m3\u001b[39m \u001b[43mcombined_encoder\u001b[49m\u001b[43m(\u001b[49m\u001b[43mexample_batch\u001b[49m\u001b[43m[\u001b[49m\u001b[33;43m'\u001b[39;49m\u001b[33;43mobservations\u001b[39;49m\u001b[33;43m'\u001b[39;49m\u001b[43m]\u001b[49m\u001b[43m,\u001b[49m\u001b[43m \u001b[49m\u001b[43mtrain\u001b[49m\u001b[43m=\u001b[49m\u001b[38;5;28;43;01mTrue\u001b[39;49;00m\u001b[43m)\u001b[49m\n",
      "\u001b[36mFile \u001b[39m\u001b[32m~/multitask_reinforcement_learning/multitask_RL/.venv/lib/python3.11/site-packages/flax/linen/module.py:699\u001b[39m, in \u001b[36mwrap_method_once.<locals>.wrapped_module_method\u001b[39m\u001b[34m(*args, **kwargs)\u001b[39m\n\u001b[32m    697\u001b[39m \u001b[38;5;28;01mif\u001b[39;00m args \u001b[38;5;129;01mand\u001b[39;00m \u001b[38;5;28misinstance\u001b[39m(args[\u001b[32m0\u001b[39m], Module):\n\u001b[32m    698\u001b[39m   \u001b[38;5;28mself\u001b[39m, args = args[\u001b[32m0\u001b[39m], args[\u001b[32m1\u001b[39m:]\n\u001b[32m--> \u001b[39m\u001b[32m699\u001b[39m   \u001b[38;5;28;01mreturn\u001b[39;00m \u001b[38;5;28;43mself\u001b[39;49m\u001b[43m.\u001b[49m\u001b[43m_call_wrapped_method\u001b[49m\u001b[43m(\u001b[49m\u001b[43mfun\u001b[49m\u001b[43m,\u001b[49m\u001b[43m \u001b[49m\u001b[43margs\u001b[49m\u001b[43m,\u001b[49m\u001b[43m \u001b[49m\u001b[43mkwargs\u001b[49m\u001b[43m)\u001b[49m\n\u001b[32m    700\u001b[39m \u001b[38;5;28;01melse\u001b[39;00m:\n\u001b[32m    701\u001b[39m   \u001b[38;5;28;01mreturn\u001b[39;00m fun(*args, **kwargs)\n",
      "\u001b[36mFile \u001b[39m\u001b[32m~/multitask_reinforcement_learning/multitask_RL/.venv/lib/python3.11/site-packages/flax/linen/module.py:1216\u001b[39m, in \u001b[36mModule._call_wrapped_method\u001b[39m\u001b[34m(self, fun, args, kwargs)\u001b[39m\n\u001b[32m   1214\u001b[39m \u001b[38;5;28;01mif\u001b[39;00m _use_named_call:\n\u001b[32m   1215\u001b[39m   \u001b[38;5;28;01mwith\u001b[39;00m jax.named_scope(_derive_profiling_name(\u001b[38;5;28mself\u001b[39m, fun)):\n\u001b[32m-> \u001b[39m\u001b[32m1216\u001b[39m     y = \u001b[43mrun_fun\u001b[49m\u001b[43m(\u001b[49m\u001b[38;5;28;43mself\u001b[39;49m\u001b[43m,\u001b[49m\u001b[43m \u001b[49m\u001b[43m*\u001b[49m\u001b[43margs\u001b[49m\u001b[43m,\u001b[49m\u001b[43m \u001b[49m\u001b[43m*\u001b[49m\u001b[43m*\u001b[49m\u001b[43mkwargs\u001b[49m\u001b[43m)\u001b[49m\n\u001b[32m   1217\u001b[39m \u001b[38;5;28;01melse\u001b[39;00m:\n\u001b[32m   1218\u001b[39m   y = run_fun(\u001b[38;5;28mself\u001b[39m, *args, **kwargs)\n",
      "\u001b[36mFile \u001b[39m\u001b[32m~/multitask_reinforcement_learning/multitask_RL/networks/encoders.py:199\u001b[39m, in \u001b[36mCombinedEncoder.__call__\u001b[39m\u001b[34m(self, obs, train)\u001b[39m\n\u001b[32m    197\u001b[39m \u001b[38;5;66;03m# instead of calling impala twice, just stack images channel-wise and pass this 6-channel image to FilmImpalaEncoder\u001b[39;00m\n\u001b[32m    198\u001b[39m stacked_images = jnp.concatenate([image_primary, image_wrist], axis=-\u001b[32m1\u001b[39m)\n\u001b[32m--> \u001b[39m\u001b[32m199\u001b[39m out = \u001b[38;5;28;43mself\u001b[39;49m\u001b[43m.\u001b[49m\u001b[43mfilm_impala_encoder\u001b[49m(stacked_images, combined_vector, train=train)        \n\u001b[32m    200\u001b[39m \u001b[38;5;28;01mreturn\u001b[39;00m out\n",
      "\u001b[36mFile \u001b[39m\u001b[32m~/multitask_reinforcement_learning/multitask_RL/.venv/lib/python3.11/site-packages/flax/linen/module.py:1309\u001b[39m, in \u001b[36mModule.__getattr__\u001b[39m\u001b[34m(self, name)\u001b[39m\n\u001b[32m   1304\u001b[39m \u001b[38;5;28;01mif\u001b[39;00m \u001b[38;5;28mself\u001b[39m.scope \u001b[38;5;129;01mis\u001b[39;00m \u001b[38;5;28;01mNone\u001b[39;00m:\n\u001b[32m   1305\u001b[39m   msg += (\n\u001b[32m   1306\u001b[39m     \u001b[33mf\u001b[39m\u001b[33m'\u001b[39m\u001b[33m If \u001b[39m\u001b[33m\"\u001b[39m\u001b[38;5;132;01m{\u001b[39;00mname\u001b[38;5;132;01m}\u001b[39;00m\u001b[33m\"\u001b[39m\u001b[33m is defined in \u001b[39m\u001b[38;5;130;01m\\'\u001b[39;00m\u001b[33m.setup()\u001b[39m\u001b[38;5;130;01m\\'\u001b[39;00m\u001b[33m, remember these fields \u001b[39m\u001b[33m'\u001b[39m\n\u001b[32m   1307\u001b[39m     \u001b[33m\"\u001b[39m\u001b[33mare only accessible from inside \u001b[39m\u001b[33m'\u001b[39m\u001b[33minit\u001b[39m\u001b[33m'\u001b[39m\u001b[33m or \u001b[39m\u001b[33m'\u001b[39m\u001b[33mapply\u001b[39m\u001b[33m'\u001b[39m\u001b[33m.\u001b[39m\u001b[33m\"\u001b[39m\n\u001b[32m   1308\u001b[39m   )\n\u001b[32m-> \u001b[39m\u001b[32m1309\u001b[39m \u001b[38;5;28;01mraise\u001b[39;00m \u001b[38;5;167;01mAttributeError\u001b[39;00m(msg)\n",
      "\u001b[31mAttributeError\u001b[39m: \"CombinedEncoder\" object has no attribute \"film_impala_encoder\". If \"film_impala_encoder\" is defined in '.setup()', remember these fields are only accessible from inside 'init' or 'apply'."
     ]
    }
   ],
   "source": [
    "from networks.encoders import encoder_modules\n",
    "combined_encoder = encoder_modules['combined_encoder_debug']()\n",
    "combined_encoder(example_batch['observations'], train=True)"
   ]
  },
  {
   "cell_type": "code",
   "execution_count": null,
   "id": "89da4fe1",
   "metadata": {},
   "outputs": [],
   "source": []
  }
 ],
 "metadata": {
  "kernelspec": {
   "display_name": ".venv",
   "language": "python",
   "name": "python3"
  },
  "language_info": {
   "codemirror_mode": {
    "name": "ipython",
    "version": 3
   },
   "file_extension": ".py",
   "mimetype": "text/x-python",
   "name": "python",
   "nbconvert_exporter": "python",
   "pygments_lexer": "ipython3",
   "version": "3.11.12"
  }
 },
 "nbformat": 4,
 "nbformat_minor": 5
}
